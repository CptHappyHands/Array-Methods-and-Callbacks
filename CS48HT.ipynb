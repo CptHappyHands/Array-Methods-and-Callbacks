{
  "nbformat": 4,
  "nbformat_minor": 0,
  "metadata": {
    "colab": {
      "name": "CS48HT.ipynb",
      "provenance": [],
      "include_colab_link": true
    },
    "kernelspec": {
      "name": "python3",
      "display_name": "Python 3"
    },
    "language_info": {
      "name": "python"
    }
  },
  "cells": [
    {
      "cell_type": "markdown",
      "metadata": {
        "id": "view-in-github",
        "colab_type": "text"
      },
      "source": [
        "<a href=\"https://colab.research.google.com/github/CptHappyHands/Array-Methods-and-Callbacks/blob/master/CS48HT.ipynb\" target=\"_parent\"><img src=\"https://colab.research.google.com/assets/colab-badge.svg\" alt=\"Open In Colab\"/></a>"
      ]
    },
    {
      "cell_type": "markdown",
      "metadata": {
        "id": "ww-HfUhm0eJO"
      },
      "source": [
        "# Code: ????"
      ]
    },
    {
      "cell_type": "markdown",
      "metadata": {
        "id": "SvVOoY100aZ_"
      },
      "source": [
        "# CS48 Hash Tables\n",
        "- Hashing Function\n",
        "- Storage"
      ]
    },
    {
      "cell_type": "code",
      "metadata": {
        "id": "sAHxPDMj0ZsJ",
        "outputId": "c92d8022-6420-47ce-8abd-fe4b254b2832",
        "colab": {
          "base_uri": "https://localhost:8080/",
          "height": 356
        }
      },
      "source": [
        "# storage\n",
        "storage = [None] * 10\n",
        "# hashing function\n",
        "# \"bob\" -> [????] - >7890\n",
        "#345\n",
        "#storage[3] = 345\n",
        "def my_hash(key):\n",
        "  hash = 0\n",
        "  for char in key:\n",
        "    hash += ord(char)\n",
        "\n",
        "  return hash\n",
        "\n",
        "# print(my_hash(\"This is a long\"))\n",
        "\n",
        "def hash_index(hash, size):\n",
        "  hash % size\n",
        "hash = my_hash(\"this is a long key\")\n",
        "index = hash_index(hash, 10)\n",
        "# storage[index] = 5\n",
        "\n",
        "# put\n",
        "def put(key, value):\n",
        "  hash = my_hash(key)\n",
        "  index = hash_index(hash, 10)\n",
        "  storage[index] = (key, value)\n",
        "\n",
        "# get\n",
        "def get(key):\n",
        "  hash = my_hash(key)\n",
        "  index = hash_index(hash, 10)\n",
        "  return storage[index]\n",
        "\n",
        "s = \"here is a test string\"\n",
        "alpha = \"abcdefghijklmnopqrstuvwxyz\"\n",
        "for c in s:\n",
        "\n",
        "\n",
        "\n",
        "#tests\n",
        "put(\"eggs\", 5)\n",
        "put(\"bread\", 2)\n",
        "put(\"veg\", 6)"
      ],
      "execution_count": 4,
      "outputs": [
        {
          "output_type": "error",
          "ename": "TypeError",
          "evalue": "ignored",
          "traceback": [
            "\u001b[0;31m---------------------------------------------------------------------------\u001b[0m",
            "\u001b[0;31mTypeError\u001b[0m                                 Traceback (most recent call last)",
            "\u001b[0;32m<ipython-input-4-a1c1f98b03c0>\u001b[0m in \u001b[0;36m<module>\u001b[0;34m()\u001b[0m\n\u001b[1;32m     29\u001b[0m \u001b[0;34m\u001b[0m\u001b[0m\n\u001b[1;32m     30\u001b[0m \u001b[0;31m#tests\u001b[0m\u001b[0;34m\u001b[0m\u001b[0;34m\u001b[0m\u001b[0;34m\u001b[0m\u001b[0m\n\u001b[0;32m---> 31\u001b[0;31m \u001b[0mput\u001b[0m\u001b[0;34m(\u001b[0m\u001b[0;34m\"eggs\"\u001b[0m\u001b[0;34m,\u001b[0m \u001b[0;36m5\u001b[0m\u001b[0;34m)\u001b[0m\u001b[0;34m\u001b[0m\u001b[0;34m\u001b[0m\u001b[0m\n\u001b[0m\u001b[1;32m     32\u001b[0m \u001b[0mput\u001b[0m\u001b[0;34m(\u001b[0m\u001b[0;34m\"bread\"\u001b[0m\u001b[0;34m,\u001b[0m \u001b[0;36m2\u001b[0m\u001b[0;34m)\u001b[0m\u001b[0;34m\u001b[0m\u001b[0;34m\u001b[0m\u001b[0m\n\u001b[1;32m     33\u001b[0m \u001b[0mput\u001b[0m\u001b[0;34m(\u001b[0m\u001b[0;34m\"veg\"\u001b[0m\u001b[0;34m,\u001b[0m \u001b[0;36m6\u001b[0m\u001b[0;34m)\u001b[0m\u001b[0;34m\u001b[0m\u001b[0;34m\u001b[0m\u001b[0m\n",
            "\u001b[0;32m<ipython-input-4-a1c1f98b03c0>\u001b[0m in \u001b[0;36mput\u001b[0;34m(key, value)\u001b[0m\n\u001b[1;32m     24\u001b[0m   \u001b[0mhash\u001b[0m \u001b[0;34m=\u001b[0m \u001b[0mmy_hash\u001b[0m\u001b[0;34m(\u001b[0m\u001b[0mkey\u001b[0m\u001b[0;34m)\u001b[0m\u001b[0;34m\u001b[0m\u001b[0;34m\u001b[0m\u001b[0m\n\u001b[1;32m     25\u001b[0m   \u001b[0mindex\u001b[0m \u001b[0;34m=\u001b[0m \u001b[0mhash_index\u001b[0m\u001b[0;34m(\u001b[0m\u001b[0mhash\u001b[0m\u001b[0;34m,\u001b[0m \u001b[0;36m10\u001b[0m\u001b[0;34m)\u001b[0m\u001b[0;34m\u001b[0m\u001b[0;34m\u001b[0m\u001b[0m\n\u001b[0;32m---> 26\u001b[0;31m   \u001b[0mstorage\u001b[0m\u001b[0;34m[\u001b[0m\u001b[0mindex\u001b[0m\u001b[0;34m]\u001b[0m \u001b[0;34m=\u001b[0m \u001b[0mvalue\u001b[0m\u001b[0;34m\u001b[0m\u001b[0;34m\u001b[0m\u001b[0m\n\u001b[0m\u001b[1;32m     27\u001b[0m \u001b[0;34m\u001b[0m\u001b[0m\n\u001b[1;32m     28\u001b[0m \u001b[0;31m# get\u001b[0m\u001b[0;34m\u001b[0m\u001b[0;34m\u001b[0m\u001b[0;34m\u001b[0m\u001b[0m\n",
            "\u001b[0;31mTypeError\u001b[0m: list indices must be integers or slices, not NoneType"
          ]
        }
      ]
    },
    {
      "cell_type": "markdown",
      "metadata": {
        "id": "jv6OqQVD0xBn"
      },
      "source": [
        "# Demo"
      ]
    },
    {
      "cell_type": "code",
      "metadata": {
        "id": "2r-eVoO60yqc",
        "outputId": "57ceb919-bcad-4179-f624-c2d24902de94",
        "colab": {
          "base_uri": "https://localhost:8080/",
          "height": 356
        }
      },
      "source": [
        "\"\"\"\n",
        "Your task is create your own HashTable without using a built-in library.\n",
        "Your HashTable needs to have the following functions:\n",
        "- put(key, value) : Inserts a (key, value) pair into the HashTable. If the\n",
        "value already exists in the HashTable, update the value.\n",
        "- get(key): Returns the value to which the specified key is mapped, or -1 if\n",
        "this map contains no mapping for the key.\n",
        "- remove(key) : Remove the mapping for the value key if this map contains the\n",
        "mapping for the key.\n",
        "\"\"\"\n",
        "class LinkedListNode:\n",
        "  def __init__(self, key, value):\n",
        "    self.key = key\n",
        "    self.value = value\n",
        "    self.next = None\n",
        "\n",
        "  l = LinkedListNode(\"eggs\", 6)\n",
        "  print(l.key)\n",
        "  print(l.value)\n",
        "\n",
        "def hash(self, key):\n",
        "  hash = 0\n",
        "  for char in key:\n",
        "    hash += ord(char)\n",
        "\n",
        "  return hash % self.size\n",
        "\n",
        "def put(self, key, value):\n",
        "  index = self.hash(key)\n",
        "  self.storage[index] = (key, value)\n",
        "\n",
        "def get(self, key):\n",
        "  index = self.hash(key)\n",
        "  if self.storage[index] is not None:\n",
        "    return self.storage[index][1]\n",
        "  else:\n",
        "    return -1\n",
        "\n",
        "def remove(self, key):\n",
        "  index = self.hash(key)\n",
        "  if self.storage[index] is not None:\n",
        "    self.storage[index] = None\n",
        "\n",
        "\n",
        "\n",
        "\n",
        "\n",
        "# tests\n",
        "hash_table = MyHashTable();\n",
        "hash_table.put(\"a\", 1); # ht[\"a\"] = 1\n",
        "hash_table.put(\"b\", 2);\n",
        "print(hash_table.get(\"a\"))            # returns 1\n",
        "print(hash_table.get(\"c\"))            # returns -1 (not found)\n",
        "hash_table.put(\"b\", 1);         # update the existing value\n",
        "print(hash_table.get(\"b\"))            # returns 1\n",
        "hash_table.remove(\"b\");         # remove the mapping for 2\n",
        "print(hash_table.get(\"b\"))            # returns -1 (not found)"
      ],
      "execution_count": 5,
      "outputs": [
        {
          "output_type": "error",
          "ename": "NameError",
          "evalue": "ignored",
          "traceback": [
            "\u001b[0;31m---------------------------------------------------------------------------\u001b[0m",
            "\u001b[0;31mNameError\u001b[0m                                 Traceback (most recent call last)",
            "\u001b[0;32m<ipython-input-5-ed6ec103f60f>\u001b[0m in \u001b[0;36m<module>\u001b[0;34m()\u001b[0m\n\u001b[1;32m      9\u001b[0m \u001b[0mmapping\u001b[0m \u001b[0;32mfor\u001b[0m \u001b[0mthe\u001b[0m \u001b[0mkey\u001b[0m\u001b[0;34m.\u001b[0m\u001b[0;34m\u001b[0m\u001b[0;34m\u001b[0m\u001b[0m\n\u001b[1;32m     10\u001b[0m \"\"\"\n\u001b[0;32m---> 11\u001b[0;31m \u001b[0;32mclass\u001b[0m \u001b[0mLinkedListNode\u001b[0m\u001b[0;34m:\u001b[0m\u001b[0;34m\u001b[0m\u001b[0;34m\u001b[0m\u001b[0m\n\u001b[0m\u001b[1;32m     12\u001b[0m   \u001b[0;32mdef\u001b[0m \u001b[0m__init__\u001b[0m\u001b[0;34m(\u001b[0m\u001b[0mself\u001b[0m\u001b[0;34m,\u001b[0m \u001b[0mkey\u001b[0m\u001b[0;34m,\u001b[0m \u001b[0mvalue\u001b[0m\u001b[0;34m)\u001b[0m\u001b[0;34m:\u001b[0m\u001b[0;34m\u001b[0m\u001b[0;34m\u001b[0m\u001b[0m\n\u001b[1;32m     13\u001b[0m     \u001b[0mself\u001b[0m\u001b[0;34m.\u001b[0m\u001b[0mkey\u001b[0m \u001b[0;34m=\u001b[0m \u001b[0mkey\u001b[0m\u001b[0;34m\u001b[0m\u001b[0;34m\u001b[0m\u001b[0m\n",
            "\u001b[0;32m<ipython-input-5-ed6ec103f60f>\u001b[0m in \u001b[0;36mLinkedListNode\u001b[0;34m()\u001b[0m\n\u001b[1;32m     15\u001b[0m     \u001b[0mself\u001b[0m\u001b[0;34m.\u001b[0m\u001b[0mnext\u001b[0m \u001b[0;34m=\u001b[0m \u001b[0;32mNone\u001b[0m\u001b[0;34m\u001b[0m\u001b[0;34m\u001b[0m\u001b[0m\n\u001b[1;32m     16\u001b[0m \u001b[0;34m\u001b[0m\u001b[0m\n\u001b[0;32m---> 17\u001b[0;31m   \u001b[0ml\u001b[0m \u001b[0;34m=\u001b[0m \u001b[0mLinkedListNode\u001b[0m\u001b[0;34m(\u001b[0m\u001b[0;34m\"eggs\"\u001b[0m\u001b[0;34m,\u001b[0m \u001b[0;36m6\u001b[0m\u001b[0;34m)\u001b[0m\u001b[0;34m\u001b[0m\u001b[0;34m\u001b[0m\u001b[0m\n\u001b[0m\u001b[1;32m     18\u001b[0m   \u001b[0mprint\u001b[0m\u001b[0;34m(\u001b[0m\u001b[0ml\u001b[0m\u001b[0;34m.\u001b[0m\u001b[0mkey\u001b[0m\u001b[0;34m)\u001b[0m\u001b[0;34m\u001b[0m\u001b[0;34m\u001b[0m\u001b[0m\n\u001b[1;32m     19\u001b[0m   \u001b[0mprint\u001b[0m\u001b[0;34m(\u001b[0m\u001b[0ml\u001b[0m\u001b[0;34m.\u001b[0m\u001b[0mvalue\u001b[0m\u001b[0;34m)\u001b[0m\u001b[0;34m\u001b[0m\u001b[0;34m\u001b[0m\u001b[0m\n",
            "\u001b[0;31mNameError\u001b[0m: name 'LinkedListNode' is not defined"
          ]
        }
      ]
    }
  ]
}