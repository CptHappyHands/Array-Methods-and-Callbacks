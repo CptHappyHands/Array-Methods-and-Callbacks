{
  "nbformat": 4,
  "nbformat_minor": 0,
  "metadata": {
    "colab": {
      "name": "CS48 tree traversals.ipynb",
      "provenance": [],
      "collapsed_sections": [],
      "include_colab_link": true
    },
    "kernelspec": {
      "name": "python3",
      "display_name": "Python 3"
    },
    "language_info": {
      "name": "python"
    }
  },
  "cells": [
    {
      "cell_type": "markdown",
      "metadata": {
        "id": "view-in-github",
        "colab_type": "text"
      },
      "source": [
        "<a href=\"https://colab.research.google.com/github/CptHappyHands/Array-Methods-and-Callbacks/blob/master/CS48_tree_traversals.ipynb\" target=\"_parent\"><img src=\"https://colab.research.google.com/assets/colab-badge.svg\" alt=\"Open In Colab\"/></a>"
      ]
    },
    {
      "cell_type": "markdown",
      "metadata": {
        "id": "KxLLj-UWbROJ"
      },
      "source": [
        "# CODE:"
      ]
    },
    {
      "cell_type": "markdown",
      "metadata": {
        "id": "wZnqubcvaoPw"
      },
      "source": [
        "# Tree Traversals\n",
        "\n",
        "## DFT Depth First\n",
        "\n",
        "## BFT Breadth First\n",
        "\n",
        "## In Order DFT\n",
        "\n",
        "## Pre Order DFT\n",
        "\n",
        "## Post Order DFT\n",
        "\n",
        "## DFT Print\n",
        "\n",
        "## BFT Print"
      ]
    },
    {
      "cell_type": "code",
      "metadata": {
        "id": "TIRYeaFrXfUQ",
        "outputId": "f5362a90-da5c-42a5-850c-2eef17b0c9fd",
        "colab": {
          "base_uri": "https://localhost:8080/"
        }
      },
      "source": [
        "class BinarySearchTree:\n",
        "  def __init__(self, value):\n",
        "      # the value at the current node\n",
        "      self.value = value\n",
        "      # reference to this node's left child\n",
        "      self.left = None\n",
        "      # reference to this node's right child\n",
        "      self.right = None\n",
        "\n",
        "  def insert(self, value):\n",
        "      # check if the new node's value is less than our current node's value\n",
        "      if value < self.value:\n",
        "          # if there's no left child here already, place the new node here\n",
        "          if not self.left:\n",
        "              self.left = BinarySearchTree(value)\n",
        "          else:\n",
        "              # otherwise, repeat the process!\n",
        "              self.left.insert(value)\n",
        "      # check if the new node's value is greater than or equal to our \n",
        "      # current node's value\n",
        "      elif value >= self.value:\n",
        "          # if there's no right child here already, place the new node here\n",
        "          if not self.right:\n",
        "              self.right = BinarySearchTree(value)\n",
        "          else:\n",
        "              # otherwise, repeat the process!\n",
        "              self.right.insert(value)\n",
        "\n",
        "  def pre_order_dft(self):\n",
        "    if self is None:\n",
        "      return\n",
        "    print(self.value)\n",
        "    self.left.pre_order_dft()\n",
        "    self.right.pre_order_dft()\n",
        "\n",
        "  def in_order_dft(self):\n",
        "    if self is None:\n",
        "      return\n",
        "    self.left.in_order_dft()\n",
        "    print(self.value)\n",
        "    self.right.in_order_dft()\n",
        "\n",
        "\n",
        "  def post_order_dft(self):\n",
        "    if self is None:\n",
        "      return\n",
        "    self.left.post_order_dft()\n",
        "    self.right.post_order_dft()\n",
        "    print(self.value)\n",
        "\n",
        "  \n",
        "  def bft_print(self):\n",
        "    q = []\n",
        "    q.append(self)\n",
        "\n",
        "    while len(q) > 0:\n",
        "      current = q.pop(0)\n",
        "      print(current.value)\n",
        "      if current.left:\n",
        "        q.append(current.left)\n",
        "      if current.right:\n",
        "        q.append(current.right)\n",
        "\n",
        "  def dft_print(self):\n",
        "   s = []\n",
        "   s.append(self)\n",
        "\n",
        "   while len(q) > 0:\n",
        "      current = s.pop(0)\n",
        "      print(current.value)\n",
        "      if current.left:\n",
        "        s.append(current.left)\n",
        "      if current.right:\n",
        "        s.append(current.right)\n",
        "\n",
        "  def for_each(self, cb):\n",
        "    cb(self.value)\n",
        "    if self.left:\n",
        "        self.left.for_each(cb)\n",
        "    if self.right:\n",
        "        self.right.for_each(cb)\n",
        "    \n",
        "# test\n",
        "t = BinarySearchTree(10)\n",
        "t.left = BinarySearchTree(20)\n",
        "t.right = BinarySearchTree(30)\n",
        "def mult_10(val):\n",
        "  print(val * 10)\n",
        "\n",
        "t.for_each(mult_10)"
      ],
      "execution_count": 3,
      "outputs": [
        {
          "output_type": "stream",
          "name": "stdout",
          "text": [
            "100\n",
            "200\n",
            "300\n"
          ]
        }
      ]
    },
    {
      "cell_type": "markdown",
      "metadata": {
        "id": "Dg-yb-1IbaB_"
      },
      "source": [
        "# Demo"
      ]
    },
    {
      "cell_type": "code",
      "metadata": {
        "id": "kOrStYYtbe82",
        "outputId": "5a614f4d-d40c-4000-9121-d02fa324e512",
        "colab": {
          "base_uri": "https://localhost:8080/"
        }
      },
      "source": [
        "\"\"\"\n",
        "You are given a binary tree.\n",
        "Write a function that can return the inorder traversal of node values.\n",
        "Example:\n",
        "Input:\n",
        "   3\n",
        "    \\\n",
        "     1\n",
        "    /\n",
        "   5\n",
        "Output: [3,5,1]\n",
        "\"\"\"\n",
        "# Definition for a binary tree node.\n",
        "class TreeNode:\n",
        "    def __init__(self, val=0, left=None, right=None):\n",
        "        self.val = val\n",
        "        self.left = left\n",
        "        self.right = right\n",
        "\n",
        "def inorder_traversal(root, results = None):\n",
        "  if results == None:\n",
        "    results = []\n",
        "  if root is None:\n",
        "    return\n",
        "  inorder_traversal(root.left, results)\n",
        "  results.append(root.val)\n",
        "  inorder_traversal(root.right, results)\n",
        "\n",
        "  return results\n",
        "\n",
        "\n",
        "\n",
        "\n",
        "\n",
        "# test\n",
        "n = TreeNode(3)\n",
        "n.right = TreeNode(1)\n",
        "n.right.left = TreeNode(5)\n",
        "\n",
        "res = inorder_traversal(n)\n",
        "print(res)"
      ],
      "execution_count": 13,
      "outputs": [
        {
          "output_type": "stream",
          "name": "stdout",
          "text": [
            "[3, 5, 1]\n"
          ]
        }
      ]
    },
    {
      "cell_type": "markdown",
      "metadata": {
        "id": "f0hW-5IebmA-"
      },
      "source": [
        "# Bonus Demo"
      ]
    },
    {
      "cell_type": "code",
      "metadata": {
        "id": "XaSK0OpPbryF",
        "outputId": "1819e87e-45b4-406c-97c2-9909eab2af65",
        "colab": {
          "base_uri": "https://localhost:8080/"
        }
      },
      "source": [
        "\"\"\"\n",
        "You are given the values from a preorder and an inorder tree traversal. Write a\n",
        "function that can take those inputs and output a binary tree.\n",
        "*Note: assume that there will not be any duplicates in the tree.*\n",
        "Example:\n",
        "Inputs:\n",
        "preorder = [5,7,22,13,9]\n",
        "inorder = [7,5,13,22,9]\n",
        "Output:\n",
        "    5\n",
        "   / \\\n",
        "  7  22\n",
        "    /  \\\n",
        "   13   9\n",
        "\"\"\"\n",
        "# Definition for a binary tree node.\n",
        "class TreeNode:\n",
        "    def __init__(self, val=0, left=None, right=None):\n",
        "        self.val = val\n",
        "        self.left = left\n",
        "        self.right = right\n",
        "\n",
        "def build_tree(preorder, inorder):\n",
        "  def helper(in_left = 0, in_right = len(inorder)):\n",
        "    nonlocal pre_idx\n",
        "    if in_left == in_right:\n",
        "      return None\n",
        "\n",
        "    root_value = preorder[pre_idx]\n",
        "    root = TreeNode(root_value)\n",
        "\n",
        "    idx = idx_map[root_value]\n",
        "\n",
        "    pre_idx += 1\n",
        "\n",
        "    root.left = helper(in_left, idx)\n",
        "    root.right = helper(idx + 1, in_right)\n",
        "    return root\n",
        "  \n",
        "  pre_idx = 0\n",
        "  idx_map = {}\n",
        "\n",
        "  for idx, value in enumerate(inorder):\n",
        "    idx_map[value] = idx\n",
        "\n",
        "  return helper()\n",
        "\n",
        "\n",
        "# test\n",
        "preorder = [5,7,22,13,9]\n",
        "inorder = [7,5,13,22,9]\n",
        "\n",
        "t = build_tree(preorder, inorder)\n",
        "print(t.right.right.val)"
      ],
      "execution_count": 17,
      "outputs": [
        {
          "output_type": "stream",
          "name": "stdout",
          "text": [
            "9\n"
          ]
        }
      ]
    }
  ]
}