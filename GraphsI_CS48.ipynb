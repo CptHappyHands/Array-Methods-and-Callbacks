{
  "nbformat": 4,
  "nbformat_minor": 0,
  "metadata": {
    "colab": {
      "name": "GraphsI CS48.ipynb",
      "provenance": [],
      "include_colab_link": true
    },
    "kernelspec": {
      "name": "python3",
      "display_name": "Python 3"
    },
    "language_info": {
      "name": "python"
    }
  },
  "cells": [
    {
      "cell_type": "markdown",
      "metadata": {
        "id": "view-in-github",
        "colab_type": "text"
      },
      "source": [
        "<a href=\"https://colab.research.google.com/github/CptHappyHands/Array-Methods-and-Callbacks/blob/master/GraphsI_CS48.ipynb\" target=\"_parent\"><img src=\"https://colab.research.google.com/assets/colab-badge.svg\" alt=\"Open In Colab\"/></a>"
      ]
    },
    {
      "cell_type": "markdown",
      "metadata": {
        "id": "vQRy1-8vJbSv"
      },
      "source": [
        ""
      ]
    },
    {
      "cell_type": "markdown",
      "metadata": {
        "id": "sYY55wXWJgfv"
      },
      "source": [
        "# Graphs I\n",
        "\n",
        "You have been working with graphs all this time but you might have called them...\n",
        "\n",
        "- Linked Lists\n",
        "- Trees\n",
        "- Binary Search Trees\n",
        "\n",
        "All of those are forms of graphs. Think of graphs as the overarching category that encompasses a multitude of sub data structures such as Lists, Trees, Heaps and more...\n",
        "\n",
        "## Directed Vs Undirected\n",
        "**Directed**\n",
        "- Twitter Follow\n",
        "- You Follow an other Person\n",
        "\n",
        "**Undirected / Bi Directional**\n",
        "- Facebook Friendship\n",
        "- You make friends with an other user, who is also then in turn your friend\n",
        "\n",
        "## Cyclic Vs Acyclic\n",
        "- cyclic graphs could model a route from home to work to school to home\n",
        "- acyclic graph could model a routh where you just go either from home to work or from home to school\n",
        "\n",
        "## Vertices and Edges\n",
        "- a Vertex / Node would be an object to represent something like a User / Person / Student / Location\n",
        "- a Edge / Connection could be a freindship / rivalry / follow / network connection / neighbor\n",
        "\n",
        "## Weighted Vs Unweighted\n",
        "- Weighted Edges contain some sort of value\n",
        "- Unweighted does not contain any extra meta data\n",
        "\n",
        "## Adjacency List and Adjacency Matrix\n",
        "```\n",
        "{\n",
        "  \"User1\": [\"User210\", \"User340\", \"User2\"],\n",
        "  \"User2\": [\"User1\"],\n",
        "  \"User210\": [\"User340\", \"User1\"],\n",
        "  \"User340\": [\"User1\", \"User210\"]\n",
        "}\n",
        "\n",
        "\n",
        "   a  b  c  d  e  f\n",
        "[\n",
        " a[0, 1, 0, 1, 0, 1],\n",
        " b[1, 0, 0, 0, 1, 0],\n",
        " c[0, 0, 0, 1, 0, 0],\n",
        " d[1, 0, 1, 0, 0, 0],\n",
        " e[0, 1, 0, 0, 0, 0],\n",
        " f[1, 0, 0, 0, 0, 0]\n",
        " ]\n",
        "\n",
        " [[0, 1, 0, 1, 0, 1], [1, 0, 0, 0, 1, 0], [0, 0, 0, 1, 0, 0], [1, 0, 1, 0, 0, 0], [0, 1, 0, 0, 0, 0], [1, 0, 0, 0, 0, 0]]\n",
        "```"
      ]
    },
    {
      "cell_type": "code",
      "metadata": {
        "id": "DIlKBXnRJacV",
        "outputId": "0bee2e98-3bc5-4bba-a8ce-35512362dbc9",
        "colab": {
          "base_uri": "https://localhost:8080/"
        }
      },
      "source": [
        "# Vertex Class\n",
        "class Vertex:\n",
        "  def __init__(self, value):\n",
        "    self.value = value\n",
        "    self.connections = {}\n",
        "\n",
        "  def __str__(self):\n",
        "    return f\"[{self.value}] connections: {[connection.value for connection in self.connections]}\"\n",
        "  \n",
        "  def __repr__(self):\n",
        "    return f\"{[connection.value for connection in self.connections]}\"\n",
        "\n",
        "  \n",
        "  def add_connection(self, vert, weight=0):\n",
        "    self.connections[vert] = weight\n",
        "  \n",
        "  def get_connections(self):\n",
        "    return self.connections.keys()\n",
        "\n",
        "  def get_value(self):\n",
        "    return self.value\n",
        "  \n",
        "  def get_weight(self, vert):\n",
        "    return self.connections[vert]\n",
        "\n",
        "  \n",
        "\n",
        "# Graph Class\n",
        "class Graph:\n",
        "  \n",
        "  def __init__(self):\n",
        "    self.vertices = {}\n",
        "    self.count = 0\n",
        "\n",
        "  def __contains__(self, vert):\n",
        "    return vert in self.vertices\n",
        "\n",
        "  def __iter__(self):\n",
        "    return iter(self.vertices.values())\n",
        "\n",
        "  def add_vertex(self, value):\n",
        "    new_vert = Vertex(value)\n",
        "    self.vertices[value] = new_vert\n",
        "    self.count += 1\n",
        "    return new_vert\n",
        "\n",
        "  def add_edge(self, v1, v2, weight = 0):\n",
        "    if v1 not in self.vertices:\n",
        "      self.add_vertex(v1)\n",
        "    if v2 not in self.vertices:\n",
        "      self.add_vertex(v2)\n",
        "    \n",
        "    self.vertices[v1].add_connection(self.vertices[v2], weight)\n",
        "\n",
        "\n",
        "\n",
        "  def get_vertices(self):\n",
        "    return self.vertices.keys()\n",
        "\n",
        "g = Graph()\n",
        "g.add_vertex(10)\n",
        "g.add_vertex(20)\n",
        "g.add_vertex(30)\n",
        "g.add_edge(10, 40)\n",
        "g.add_edge(40, 10)\n",
        "g.add_edge(340, 560)\n",
        "print(g.vertices)"
      ],
      "execution_count": 1,
      "outputs": [
        {
          "output_type": "stream",
          "name": "stdout",
          "text": [
            "{10: [40], 20: [], 30: [], 40: [10], 340: [560], 560: []}\n"
          ]
        }
      ]
    },
    {
      "cell_type": "markdown",
      "metadata": {
        "id": "f41VFp_6J2nf"
      },
      "source": [
        "# Demo"
      ]
    },
    {
      "cell_type": "code",
      "metadata": {
        "id": "F_L5EjH5J38N",
        "outputId": "3895e76b-9fbd-4e55-8274-7b4e9da89fa3",
        "colab": {
          "base_uri": "https://localhost:8080/"
        }
      },
      "source": [
        "\"\"\"\n",
        "In a town, there are `N` people labelled from `1` to `N`.  There is a rumor\n",
        "that one of these people is secretly the town judge.\n",
        "If the town judge exists, then:\n",
        "1. The town judge trusts nobody.\n",
        "2. Everybody (except for the town judge) trusts the town judge.\n",
        "3. There is exactly one person that satisfies properties 1 and 2.\n",
        "You are given `trust`, an array of pairs `trust[i] = [a, b]` representing that\n",
        "the person labelled a trusts the person labelled `b`.\n",
        "If the town judge exists and can be identified, return the label of the town\n",
        "judge.  Otherwise, return `-1`.\n",
        "\n",
        "Example 1:\n",
        "```plaintext\n",
        "Input: N = 2, trust = [[1,2]]\n",
        "Output: 2\n",
        "```\n",
        "\n",
        "Example 2:\n",
        "```plaintext\n",
        "Input: N = 3, trust = [[1,3],[2,3]]\n",
        "Output: 3\n",
        "```\n",
        "\n",
        "Example 3:\n",
        "```plaintext\n",
        "Input: N = 3, trust = [[1,3],[2,3],[3,1]]\n",
        "Output: -1\n",
        "```\n",
        "\n",
        "Example 4:\n",
        "```plaintext\n",
        "Input: N = 3, trust = [[1,2],[2,3]]\n",
        "Output: -1\n",
        "```\n",
        "Example 5:\n",
        "```plaintext\n",
        "Input: N = 4, trust = [[1,3],[1,4],[2,3],[2,4],[4,3]]\n",
        "Output: 3\n",
        "```\n",
        "Constraints:\n",
        "- `1 <= N <= 1000`\n",
        "- `0 <= trust.length <= 10^4`\n",
        "- `trust[i].length == 2`\n",
        "- `trust[i]` are all different\n",
        "- `trust[i][0] != trust[i][1]`\n",
        "- `1 <= trust[i][0], trust[i][1] <= N`\n",
        "\n",
        "\n",
        "\"\"\"\n",
        "def find_judge(N, trust):\n",
        "  inward_trust = [0] * (N + 1)\n",
        "  outward_trust = [0] * (N + 1)\n",
        "\n",
        "  for a, b in trust:\n",
        "    outward_trust[a] += 1\n",
        "    inward_trust[b] += 1\n",
        "\n",
        "  print(inward_trust)\n",
        "  print(outward_trust)\n",
        "    # \"\"\"\n",
        "    # Inputs:\n",
        "    # N -> int\n",
        "    # trust -> List[List[int]]\n",
        "    # Output:\n",
        "    # int\n",
        "    # \"\"\"\n",
        "  for i in range(1, (N + 1)):\n",
        "    if inward_trust[i] == (N - 1) and outward_trust[i] == 0:\n",
        "      return i\n",
        "    \n",
        "\n",
        "\n",
        "find_judge(4, [[1,3],[1,4],[2,3],[2,4],[4,3]])"
      ],
      "execution_count": 10,
      "outputs": [
        {
          "output_type": "stream",
          "name": "stdout",
          "text": [
            "[0, 0, 0, 3, 2]\n",
            "[0, 2, 2, 0, 1]\n"
          ]
        },
        {
          "output_type": "execute_result",
          "data": {
            "text/plain": [
              "3"
            ]
          },
          "metadata": {},
          "execution_count": 10
        }
      ]
    }
  ]
}