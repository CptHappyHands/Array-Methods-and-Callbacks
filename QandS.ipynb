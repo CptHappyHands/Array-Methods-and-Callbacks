{
  "nbformat": 4,
  "nbformat_minor": 0,
  "metadata": {
    "colab": {
      "name": "QandS.ipynb",
      "provenance": [],
      "collapsed_sections": [],
      "include_colab_link": true
    },
    "kernelspec": {
      "name": "python3",
      "display_name": "Python 3"
    },
    "language_info": {
      "name": "python"
    }
  },
  "cells": [
    {
      "cell_type": "markdown",
      "metadata": {
        "id": "view-in-github",
        "colab_type": "text"
      },
      "source": [
        "<a href=\"https://colab.research.google.com/github/CptHappyHands/Array-Methods-and-Callbacks/blob/master/QandS.ipynb\" target=\"_parent\"><img src=\"https://colab.research.google.com/assets/colab-badge.svg\" alt=\"Open In Colab\"/></a>"
      ]
    },
    {
      "cell_type": "markdown",
      "metadata": {
        "id": "F1KBmB8uMaac"
      },
      "source": [
        "# CODE: "
      ]
    },
    {
      "cell_type": "markdown",
      "metadata": {
        "id": "Glrw3yIhxjVe"
      },
      "source": [
        "# Queues and Stacks\n",
        "- Stack is a LIFO Data Structure\n",
        "- Queue is a FIFO Data Structure\n",
        "\n",
        "Queue is used when things don’t have to be processed immediately, but have to be processed in First In First Out order like Breadth First Search. This property of Queue makes it also useful in following kind of scenarios. \n",
        "\n",
        "1. When a resource is shared among multiple consumers. Examples include CPU scheduling, Disk Scheduling. \n",
        "2. When data is transferred asynchronously (data not necessarily received at same rate as sent) between two processes. Examples include IO Buffers, pipes, file IO, etc. \n",
        "3. In Operating systems:\n",
        "       - Semaphores\n",
        "       - FCFS ( first come first serve) scheduling, example: FIFO queue\n",
        "       - Spooling in printers\n",
        "       - Buffer for devices like keyboard\n",
        "4. In Networks:\n",
        "       - Queues in routers/ switches \n",
        "       - Mail Queues\n",
        "5. Variations: ( Deque, Priority Queue, Doubly Ended Priority Queue )"
      ]
    },
    {
      "cell_type": "code",
      "metadata": {
        "id": "r_RDyU9Bxfab",
        "outputId": "7bfd1da4-8e34-4ffc-ccb2-79dd27b7cf77",
        "colab": {
          "base_uri": "https://localhost:8080/"
        }
      },
      "source": [
        "# Lets write a stack class using a python list\n",
        "\n",
        "class Stack:\n",
        "  def __init__(self):\n",
        "    self.storage = []\n",
        "\n",
        "  def push(self, item):\n",
        "    self.storage.append(item)\n",
        "\n",
        "  def pop(self):\n",
        "    return self.storage.pop()\n",
        "\n",
        "  def __len__(self):\n",
        "    return len(self.storage)\n",
        "\n",
        "\n",
        "\n",
        "s = Stack()\n",
        "\n",
        "s.push(1)\n",
        "s.push(2)\n",
        "s.push(3)\n",
        "\n",
        "print(s.pop())\n",
        "print(len(s))"
      ],
      "execution_count": 1,
      "outputs": [
        {
          "output_type": "stream",
          "name": "stdout",
          "text": [
            "3\n",
            "2\n"
          ]
        }
      ]
    },
    {
      "cell_type": "code",
      "metadata": {
        "id": "AomD4olvx3hA",
        "outputId": "7071f4fa-3f67-4bd6-a6ae-ad0df858798a",
        "colab": {
          "base_uri": "https://localhost:8080/"
        }
      },
      "source": [
        "# lets write a Queue class using a python list as a backing data structure\n",
        "class Queue:\n",
        "  def __init__(self):\n",
        "    self.storage = []\n",
        "\n",
        "  def enqueue(self, item):\n",
        "    self.storage.append(item)\n",
        "\n",
        "  def dequeue(self):\n",
        "    return self.storage.pop(0)\n",
        "\n",
        "  def __len__(self):\n",
        "    return len(self.storage)\n",
        "\n",
        "\n",
        "q = Queue()\n",
        "\n",
        "q.enqueue(1)\n",
        "q.enqueue(2)\n",
        "q.enqueue(3)\n",
        "print(q.dequeue())\n",
        "print(len(q))"
      ],
      "execution_count": 2,
      "outputs": [
        {
          "output_type": "stream",
          "name": "stdout",
          "text": [
            "1\n",
            "2\n"
          ]
        }
      ]
    },
    {
      "cell_type": "code",
      "metadata": {
        "id": "u9hQ7CzJyIBw",
        "outputId": "573805fd-f698-4c76-daf9-fdbecea5126b",
        "colab": {
          "base_uri": "https://localhost:8080/",
          "height": 333
        }
      },
      "source": [
        "# lets write a Queue class using a linked list as a backing data structure\n",
        "class LinkedListNode:\n",
        "  def __init__(self, data):\n",
        "    self.data = data\n",
        "    self.next = None\n",
        "    self.size = 0\n",
        "\n",
        "class Queue:\n",
        "  def __init__(self):\n",
        "    self.front = None\n",
        "    self.rear = None\n",
        "    self.size = 0\n",
        "\n",
        "  ##output from this queue is a linked list node with the shape of self.data and self.next\n",
        "\n",
        "  def enqueue(self, item):\n",
        "    new_node = LinkedListNode(item)\n",
        "\n",
        "    if self.rear is None:\n",
        "      self.rear = new_node\n",
        "      self.front = new_node\n",
        "    else:\n",
        "      self.rear.next = new_node\n",
        "      self.rear = new_node\n",
        "\n",
        "    self.size += 1\n",
        "\n",
        "  def dequeue(self):\n",
        "    if self.front is not None:\n",
        "      old_front = self.old_front\n",
        "      self.front = old_front.next\n",
        "\n",
        "    if self.front is None:\n",
        "      self.rear = None\n",
        "\n",
        "    self.size -= 1\n",
        "\n",
        "    return old_front.data\n",
        "\n",
        "  def __len__(self):\n",
        "    if self.size < 0:\n",
        "      self.size = 0\n",
        "    return self.size\n",
        "\n",
        "q = Queue()\n",
        "\n",
        "q.enqueue(1)\n",
        "q.enqueue(2)\n",
        "q.enqueue(3)\n",
        "print(q.dequeue())\n",
        "print(len(q))"
      ],
      "execution_count": 6,
      "outputs": [
        {
          "output_type": "error",
          "ename": "AttributeError",
          "evalue": "ignored",
          "traceback": [
            "\u001b[0;31m---------------------------------------------------------------------------\u001b[0m",
            "\u001b[0;31mAttributeError\u001b[0m                            Traceback (most recent call last)",
            "\u001b[0;32m<ipython-input-6-2708e32bd36c>\u001b[0m in \u001b[0;36m<module>\u001b[0;34m()\u001b[0m\n\u001b[1;32m     48\u001b[0m \u001b[0mq\u001b[0m\u001b[0;34m.\u001b[0m\u001b[0menqueue\u001b[0m\u001b[0;34m(\u001b[0m\u001b[0;36m2\u001b[0m\u001b[0;34m)\u001b[0m\u001b[0;34m\u001b[0m\u001b[0;34m\u001b[0m\u001b[0m\n\u001b[1;32m     49\u001b[0m \u001b[0mq\u001b[0m\u001b[0;34m.\u001b[0m\u001b[0menqueue\u001b[0m\u001b[0;34m(\u001b[0m\u001b[0;36m3\u001b[0m\u001b[0;34m)\u001b[0m\u001b[0;34m\u001b[0m\u001b[0;34m\u001b[0m\u001b[0m\n\u001b[0;32m---> 50\u001b[0;31m \u001b[0mprint\u001b[0m\u001b[0;34m(\u001b[0m\u001b[0mq\u001b[0m\u001b[0;34m.\u001b[0m\u001b[0mdequeue\u001b[0m\u001b[0;34m(\u001b[0m\u001b[0;34m)\u001b[0m\u001b[0;34m)\u001b[0m\u001b[0;34m\u001b[0m\u001b[0;34m\u001b[0m\u001b[0m\n\u001b[0m\u001b[1;32m     51\u001b[0m \u001b[0mprint\u001b[0m\u001b[0;34m(\u001b[0m\u001b[0mlen\u001b[0m\u001b[0;34m(\u001b[0m\u001b[0mq\u001b[0m\u001b[0;34m)\u001b[0m\u001b[0;34m)\u001b[0m\u001b[0;34m\u001b[0m\u001b[0;34m\u001b[0m\u001b[0m\n",
            "\u001b[0;32m<ipython-input-6-2708e32bd36c>\u001b[0m in \u001b[0;36mdequeue\u001b[0;34m(self)\u001b[0m\n\u001b[1;32m     28\u001b[0m   \u001b[0;32mdef\u001b[0m \u001b[0mdequeue\u001b[0m\u001b[0;34m(\u001b[0m\u001b[0mself\u001b[0m\u001b[0;34m)\u001b[0m\u001b[0;34m:\u001b[0m\u001b[0;34m\u001b[0m\u001b[0;34m\u001b[0m\u001b[0m\n\u001b[1;32m     29\u001b[0m     \u001b[0;32mif\u001b[0m \u001b[0mself\u001b[0m\u001b[0;34m.\u001b[0m\u001b[0mfront\u001b[0m \u001b[0;32mis\u001b[0m \u001b[0;32mnot\u001b[0m \u001b[0;32mNone\u001b[0m\u001b[0;34m:\u001b[0m\u001b[0;34m\u001b[0m\u001b[0;34m\u001b[0m\u001b[0m\n\u001b[0;32m---> 30\u001b[0;31m       \u001b[0mold_front\u001b[0m \u001b[0;34m=\u001b[0m \u001b[0mself\u001b[0m\u001b[0;34m.\u001b[0m\u001b[0mold_front\u001b[0m\u001b[0;34m\u001b[0m\u001b[0;34m\u001b[0m\u001b[0m\n\u001b[0m\u001b[1;32m     31\u001b[0m       \u001b[0mself\u001b[0m\u001b[0;34m.\u001b[0m\u001b[0mfront\u001b[0m \u001b[0;34m=\u001b[0m \u001b[0mold_front\u001b[0m\u001b[0;34m.\u001b[0m\u001b[0mnext\u001b[0m\u001b[0;34m\u001b[0m\u001b[0;34m\u001b[0m\u001b[0m\n\u001b[1;32m     32\u001b[0m \u001b[0;34m\u001b[0m\u001b[0m\n",
            "\u001b[0;31mAttributeError\u001b[0m: 'Queue' object has no attribute 'old_front'"
          ]
        }
      ]
    },
    {
      "cell_type": "code",
      "metadata": {
        "id": "qWw0dTaPyOT8"
      },
      "source": [
        "# lets write a Stack class using a linked list as a backing data structure\n",
        "class LinkedListNode:\n",
        "  def __init__(self, data):\n",
        "    self.data = data\n",
        "    self.next = None\n",
        "    self.size = 0\n",
        "\n",
        "class Stack:\n",
        "  def __init__(self):\n",
        "    self.top = None\n",
        "  \n",
        "  def push(self, item):\n",
        "    new_node = LinkedListNode(item)\n",
        "    new_node.next = self.top\n",
        "    self.top = new_node\n",
        "    self.size += 1\n",
        "\n",
        "  def pop(self):\n",
        "    if self.top is not None:\n",
        "      popped_node = self.top\n",
        "      self.top = popped_node.next\n",
        "      self.size -= 1\n",
        "      return popped_node\n",
        "\n",
        "  def __len__(self):\n",
        "    return self.size\n",
        "\n",
        "  "
      ],
      "execution_count": null,
      "outputs": []
    },
    {
      "cell_type": "markdown",
      "metadata": {
        "id": "m2lEgthuyj-D"
      },
      "source": [
        "## Demo"
      ]
    },
    {
      "cell_type": "code",
      "metadata": {
        "id": "754e4XnyymG-"
      },
      "source": [
        "\"\"\"\n",
        "You've encountered a situation where you want to easily be able to pull the\n",
        "largest integer from a stack.\n",
        "You already have a `Stack` class that you've implemented using a dynamic array.\n",
        "Use this `Stack` class to implement a new class `MaxStack` with a method\n",
        "`get_max()` that returns the largest element in the stack. `get_max()` should\n",
        "not remove the item.\n",
        "*Note: Your stacks will contain only integers. You should be able to get a\n",
        "runtime of O(1) for push(), pop(), and get_max().*\n",
        "\"\"\"\n",
        "class Stack:\n",
        "    def __init__(self):\n",
        "        \"\"\"Initialize an empty stack\"\"\"\n",
        "        self.items = []\n",
        "\n",
        "    def push(self, item):\n",
        "        \"\"\"Push a new item onto the stack\"\"\"\n",
        "        self.items.append(item)\n",
        "\n",
        "    def pop(self):\n",
        "        \"\"\"Remove and return the last item\"\"\"\n",
        "        # If the stack is empty, return None\n",
        "        # (it would also be reasonable to throw an exception)\n",
        "        if not self.items:\n",
        "            return None\n",
        "\n",
        "        return self.items.pop()\n",
        "\n",
        "    def peek(self):\n",
        "        \"\"\"Return the last item without removing it\"\"\"\n",
        "        if not self.items:\n",
        "            return None\n",
        "        return self.items[-1]\n",
        "\n",
        "class MaxStack:\n",
        "    def __init__(self):\n",
        "        # Your code here\n",
        "        # normal stack\n",
        "        # max stack\n",
        "        self.storage_stack = Stack()\n",
        "        self.maxes_stack = Stack()\n",
        "\n",
        "\n",
        "    def push(self, item):\n",
        "        \"\"\"Add a new item onto the top of our stack.\"\"\"\n",
        "        # Your code here\n",
        "        self.storage_stack.push(item)\n",
        "        if self.maxes_stack is not None or item > self.maxes_stack.peek():\n",
        "          self.maxes_stack.push(item)\n",
        "\n",
        "\n",
        "    def pop(self):\n",
        "        \"\"\"Remove and return the top item from our stack.\"\"\"\n",
        "        # Your code here\n",
        "        popped_number = self.storage_stack.pop()\n",
        "        if popped_number == self.maxes_stack.peek():\n",
        "          self.maxes_stack.pop()\n",
        "\n",
        "        return popped_number\n",
        "\n",
        "\n",
        "    def get_max(self):\n",
        "        \"\"\"The last item in maxes_stack is the max item in our stack.\"\"\"\n",
        "        # Your code here\n",
        "        return self.maxes_stack.peek()\n",
        "\n",
        "        "
      ],
      "execution_count": 8,
      "outputs": []
    }
  ]
}