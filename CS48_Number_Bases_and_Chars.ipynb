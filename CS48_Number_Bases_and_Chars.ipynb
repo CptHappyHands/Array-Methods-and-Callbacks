{
  "nbformat": 4,
  "nbformat_minor": 0,
  "metadata": {
    "colab": {
      "name": "CS48 Number Bases and Chars.ipynb",
      "provenance": [],
      "collapsed_sections": [],
      "include_colab_link": true
    },
    "kernelspec": {
      "name": "python3",
      "display_name": "Python 3"
    },
    "language_info": {
      "name": "python"
    }
  },
  "cells": [
    {
      "cell_type": "markdown",
      "metadata": {
        "id": "view-in-github",
        "colab_type": "text"
      },
      "source": [
        "<a href=\"https://colab.research.google.com/github/CptHappyHands/Array-Methods-and-Callbacks/blob/master/CS48_Number_Bases_and_Chars.ipynb\" target=\"_parent\"><img src=\"https://colab.research.google.com/assets/colab-badge.svg\" alt=\"Open In Colab\"/></a>"
      ]
    },
    {
      "cell_type": "markdown",
      "metadata": {
        "id": "5MjLByyFkCAY"
      },
      "source": [
        "# CODE: ????"
      ]
    },
    {
      "cell_type": "markdown",
      "metadata": {
        "id": "ffxvWDCuj6gr"
      },
      "source": [
        "# Number Bases & Characters\n",
        "\n",
        "## Number Bases\n",
        "- Decimal\n",
        "- Binary\n",
        "- Hexadecimal\n",
        "\n",
        "### Decimal\n",
        "Decimal / Radix 10\n",
        "```\n",
        "10^n\n",
        "\n",
        "0 - 9\n",
        "\n",
        "10^3 10^2 10^1  10^0\n",
        "TH   H    T     U/O\n",
        "0    0    0     0\n",
        "2    1    5     7\n",
        "```\n",
        "\n",
        "### Binary\n",
        "Binary / Radix 2\n",
        "```\n",
        "2^n\n",
        "\n",
        "0 - 1\n",
        "\n",
        "2^3 2^2 2^1  2^0\n",
        "8   4   2    1\n",
        "0   0   0    0 \n",
        "1   0   1    0 => 1 * 8 + 0 * 4 + 1 * 2 + 0 * 1 => 10 (Base 10) \n",
        "```\n",
        "\n",
        "#### Conversion between Decimal and Binary\n",
        "\n",
        "```\n",
        "25\n",
        "63\n",
        "9\n",
        "111\n",
        "```\n",
        "\n",
        "### Hexadecimal\n",
        "Hexadecimal / Radix 16\n",
        "```\n",
        "0-9 A-F\n",
        "16^n\n",
        "\n",
        "16^2  16^1 16^0\n",
        "256s  16s   1s\n",
        " 0    0    0    \n",
        " 0    0    1\n",
        " 0    2    1  =>  2 * 16 + 1 * 1 => 33 DECIMAL\n",
        " 0    F    F => 15 * 16 + 15 * 1 => 255\n",
        " 1    0   0 => 1 * 256 + 0 * 16 + 0 * 1 => 256\n",
        "```\n",
        "\n",
        "\n",
        "#### Conversion Between Binary and Hexadecimal\n",
        "\n",
        "```\n",
        "10010001\n",
        "10000001\n",
        "00111100\n",
        "10101100\n",
        "\n",
        "1001        0001\n",
        "[9]          [1]\n",
        "\n",
        "1111\n",
        "F\n",
        "\n",
        "91 <> 10010001\n",
        "\n",
        "```"
      ]
    },
    {
      "cell_type": "code",
      "metadata": {
        "id": "vl13OtXqj5y0"
      },
      "source": [
        "\"\"\"\n",
        "Decimal to Binary\n",
        "-----------------\n",
        "25\n",
        "63\n",
        "9\n",
        "111\n",
        "\n",
        "\n",
        "12 R 1\n",
        "6  R 0\n",
        "3  R 0\n",
        "1  R 1\n",
        "\n",
        "11001\n",
        "\n",
        "25 // 2 -> 12 R1\n",
        "12 // 2 -> 6  R0\n",
        "6 // 2  -> 3  R0\n",
        "3 // 2  -> 1  R1\n",
        "\n",
        "11001\n",
        "\n",
        "BIN 1000001 = 'A'\n",
        "HEX 41\n",
        "DEC 65\n",
        "\"\"\"\n"
      ],
      "execution_count": null,
      "outputs": []
    },
    {
      "cell_type": "code",
      "metadata": {
        "id": "DsIWSmFWr24u"
      },
      "source": [
        "\"\"\"\n",
        "Binary to Hexadecimal\n",
        "10010001\n",
        "10000001\n",
        "00111100\n",
        "10101100\n",
        "\n",
        "\n",
        "00000000\n",
        "0000\n",
        "1011  0101  1100  1101  0101  1101  0110  1010\n",
        "?     ?     ?     ?     ?     ?     ?     ?\n",
        "\n",
        "\n",
        "\n",
        "\n",
        "8s 4s 2s 1s\n",
        "1  0  1  0\n",
        "\n",
        "1s\n",
        "0\n",
        "1\n",
        "2\n",
        "3\n",
        "4\n",
        "5\n",
        "6\n",
        "7\n",
        "8\n",
        "9\n",
        "A\n",
        "B\n",
        "C\n",
        "D\n",
        "E\n",
        "F\n",
        "\n",
        "Binary stuck back together: 10110101110011010101110101101010\n",
        "Hexadecimal Stuck Back Together: ????????\n",
        "\"\"\""
      ],
      "execution_count": null,
      "outputs": []
    },
    {
      "cell_type": "code",
      "metadata": {
        "id": "gcLx6jncsdDO"
      },
      "source": [
        "import array # Static array\n",
        "\n",
        "a = array.array('I', [1, 2, 3, 4, 5])\n",
        "# unsigned int a[] = {1, 2, 3, 4, 5};\n",
        "print(a)\n",
        "print(a[0])\n",
        "\"\"\"\n",
        "a[0] => a + offset * size => @a + offset * size => @30200 + 0 * 1\n",
        "a[1] => a + offset * size => @a + offset * size => @30200 + 1 * 1\n",
        "@a = 30200\n",
        "@a + 1 = 30201\n",
        "a[1]\n",
        "a1 = 1\n",
        "a2 = 2\n",
        "a3 = 3\n",
        "\n",
        "['h', 'e', 'l', 'l', 'o']\n",
        "h         e       l       l       o\n",
        "6: 0110                           \n",
        "8: 1000                             \n",
        "\n",
        "[\n",
        " 30199:\n",
        " 30200: 01101000 # 'h'\n",
        " 30201: 01000010 # 'e'\n",
        " 30202: 01101101 # 'l'\n",
        " 30203: 01101101 # 'l'\n",
        " 30204: 00000101 # 'o'\n",
        " 30205: 00000000\n",
        " ...\n",
        " 57408: 00000001\n",
        "]\n",
        "\"\"\""
      ],
      "execution_count": null,
      "outputs": []
    },
    {
      "cell_type": "markdown",
      "metadata": {
        "id": "t4YWLE93sk7s"
      },
      "source": [
        "## Strings\n",
        "\n",
        "- ASCII\n",
        "- UTF8 / 16"
      ]
    },
    {
      "cell_type": "code",
      "metadata": {
        "id": "hE-KF-RLsqta",
        "outputId": "a9f1c4c3-4ca4-4db6-dd93-13bd020e0333",
        "colab": {
          "base_uri": "https://localhost:8080/"
        }
      },
      "source": [
        "\"\"\"\n",
        "Given a string, implement a function that returns the string with all lowercase\n",
        "characters.\n",
        "Example 1:\n",
        "Input: \"LambdaSchool\"\n",
        "Output: \"lambdaschool\"\n",
        "Example 2:\n",
        "Input: \"austen\"\n",
        "Output: \"austen\"\n",
        "Example 3:\n",
        "Input: \"LLAMA\"\n",
        "Output: \"llama\"\n",
        "*Note: You must implement the function without using the built-in method on\n",
        "string objects in Python. Think about how character encoding works and explore\n",
        "if there is a mathematical approach that you can take.*\n",
        "\n",
        "ord('a') -> 97\n",
        "chr(97) -> 'a'\n",
        "\"\"\"\n",
        "\n",
        "def to_lower_case(string):\n",
        "  output = \"\"\n",
        "  for c in string:\n",
        "    ord_c = ord(c)\n",
        "    if ord_c >= 65 and ord_c <=90:\n",
        "      ord_c += 32\n",
        "      lower_c = chr(ord_c)\n",
        "      output += lower_c\n",
        "    else:\n",
        "      output += c\n",
        "  return output\n",
        "print(to_lower_case(\"ANDREW\"))\n",
        "\n",
        "# print(97-65)\n",
        "# print(ord(\"z\"))\n",
        "# print(ord(\"Z\"))\n",
        "# c = \"G\"\n",
        "# c_o = ord(c)\n",
        "# print(c_o)\n",
        "# lower_c_o = c_o + 32\n",
        "# print(lower_c_o)\n",
        "# lower_c = chr(lower_c_o)\n",
        "# print(lower_c)\n",
        "  "
      ],
      "execution_count": 15,
      "outputs": [
        {
          "output_type": "stream",
          "name": "stdout",
          "text": [
            "andrew\n"
          ]
        }
      ]
    }
  ]
}