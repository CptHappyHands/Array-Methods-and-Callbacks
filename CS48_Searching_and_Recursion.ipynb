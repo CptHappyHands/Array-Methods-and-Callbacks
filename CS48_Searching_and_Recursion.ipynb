{
  "nbformat": 4,
  "nbformat_minor": 0,
  "metadata": {
    "colab": {
      "name": "CS48 Searching and Recursion.ipynb",
      "provenance": [],
      "include_colab_link": true
    },
    "kernelspec": {
      "name": "python3",
      "display_name": "Python 3"
    },
    "language_info": {
      "name": "python"
    }
  },
  "cells": [
    {
      "cell_type": "markdown",
      "metadata": {
        "id": "view-in-github",
        "colab_type": "text"
      },
      "source": [
        "<a href=\"https://colab.research.google.com/github/CptHappyHands/Array-Methods-and-Callbacks/blob/master/CS48_Searching_and_Recursion.ipynb\" target=\"_parent\"><img src=\"https://colab.research.google.com/assets/colab-badge.svg\" alt=\"Open In Colab\"/></a>"
      ]
    },
    {
      "cell_type": "markdown",
      "metadata": {
        "id": "8HfWCi0D3Xfm"
      },
      "source": [
        "# CODE: "
      ]
    },
    {
      "cell_type": "markdown",
      "metadata": {
        "id": "QxuPBMBL6BbL"
      },
      "source": [
        "# Questions Notice\n",
        "**NOTE** Today we will have the questions thread in slack to be the source of truth for questions, so all questions will be read from there. This will mean that our workflow will revert to the original style to keep the lessons in order, as per feedback from Student Operations.\n",
        "\n",
        "What this will mean for the learner.\n",
        "- your mics should be muted at all times in zoom\n",
        "- you can type questions in to the questions thread to be read by the instructor\n",
        "- the instructor will only answer relevant (on topic) questions in class\n",
        "- you will be able to get off topic or long answer questions answered a-sync (via the thread after class)\n",
        "- you will also be able to come to office hours to get more in depth answers\n",
        "- if the instructor does not answer a specific question in the slack questions thread (it was deemed either off topic, a repeat of a previous question, or one more suited to office hours.\n"
      ]
    },
    {
      "cell_type": "markdown",
      "metadata": {
        "id": "noDKUyVS3WLV"
      },
      "source": [
        "# Searching and Recursion\n",
        "- linear searching\n",
        "- recursion\n",
        "- binary search"
      ]
    },
    {
      "cell_type": "markdown",
      "metadata": {
        "id": "nFikKbi03dAp"
      },
      "source": [
        "## Linear Search"
      ]
    },
    {
      "cell_type": "code",
      "metadata": {
        "id": "f0F-CbzU3UZI"
      },
      "source": [
        "# Linear Search\n",
        "def linear_search(lst, target): # O(n) Linear\n",
        "  for num in lst:\n",
        "    if num == target:\n",
        "      return lst.index(num)\n",
        "\n",
        "  return -1\n",
        "\n",
        "l = [23, 34, 12, 3, 5654, 2, 14, 456]\n",
        "\n",
        "print(linear_search(l, 23))\n",
        "print(linear_search(l, 456))\n",
        "print(linear_search(l, 9876))"
      ],
      "execution_count": null,
      "outputs": []
    },
    {
      "cell_type": "markdown",
      "metadata": {
        "id": "xHqBqAwg3vVw"
      },
      "source": [
        "## Recursion"
      ]
    },
    {
      "cell_type": "code",
      "metadata": {
        "id": "FktPWxjh3xf1"
      },
      "source": [
        "def n_times_loop(n):\n",
        "  # for i in range(n, 0, -1):\n",
        "  #   print(i)\n",
        "  while True:\n",
        "    # base case\n",
        "    if n <= 0:\n",
        "      return\n",
        "    # do something\n",
        "    print(n)\n",
        "\n",
        "    n -= 1 # Decrement\n",
        "\n",
        "n = 5\n",
        "n_times_loop(n)"
      ],
      "execution_count": null,
      "outputs": []
    },
    {
      "cell_type": "code",
      "metadata": {
        "id": "tMo0bT6230yh"
      },
      "source": [
        "def n_times_recurse(n):\n",
        "  # base case\n",
        "  if n <= 0:\n",
        "      return\n",
        "  # do something\n",
        "  print(n)\n",
        "\n",
        "  # recursive call (decrement)\n",
        "  n_times_recurse(n - 1)\n",
        "\n",
        "\n",
        "n = 5\n",
        "n_times_recurse(n)"
      ],
      "execution_count": null,
      "outputs": []
    },
    {
      "cell_type": "code",
      "metadata": {
        "id": "_Aab-4-034RP"
      },
      "source": [
        "# Binary Search\n",
        "\n",
        "def binary_search(lst, target):\n",
        "  min = 0\n",
        "  max = len(lst) - 1\n",
        "  \n",
        "\n",
        "\n",
        "\n",
        "l = [1, 2, 3, 45, 67, 78, 98, 120, 200]\n",
        "\n",
        "print(binary_search(l, 78))"
      ],
      "execution_count": null,
      "outputs": []
    },
    {
      "cell_type": "markdown",
      "metadata": {
        "id": "TccI0-Cm4VT9"
      },
      "source": [
        "## Fibonacci Sequence\n",
        "- recursive fib\n",
        "- iterative fib"
      ]
    },
    {
      "cell_type": "code",
      "metadata": {
        "id": "pSqlRBbs4hpz",
        "outputId": "157cc1a0-b5c6-4939-e28a-6eb6a1dc1a70",
        "colab": {
          "base_uri": "https://localhost:8080/"
        }
      },
      "source": [
        "# simple recursive fib\n",
        "0, 1, 1, 2, 3, 5, 8, 13, 21\n",
        "def fib_r(n):\n",
        "  if n <= 1:\n",
        "    return n\n",
        "\n",
        "  return fib_r(n-1) + fib_r(n-2)\n",
        "\n",
        "\n",
        "\n",
        "print(fib_r(8)) # => 21"
      ],
      "execution_count": 1,
      "outputs": [
        {
          "output_type": "stream",
          "name": "stdout",
          "text": [
            "21\n"
          ]
        }
      ]
    },
    {
      "cell_type": "markdown",
      "metadata": {
        "id": "f4kCCK2C5C3M"
      },
      "source": [
        "# DEMO - iterative fib sequence"
      ]
    },
    {
      "cell_type": "code",
      "metadata": {
        "id": "YblT62rb5RQj"
      },
      "source": [
        "# iterative generate fib numbers from 0 to n\n",
        "\"\"\"\n",
        "Let's make a function that gives us a list of the fib sequence up to a finite number for instance...\n",
        "\n",
        "input: 10\n",
        "output: [0, 1, 1, 2, 3, 5, 8]\n",
        "\n",
        "  the resulting list has fib numbers that go up to 10 or less \n",
        "  so we do not hit the next fib number as `13` would exceed `10`\n",
        "\n",
        "input: 20\n",
        "output: [0, 1, 1, 2, 3, 5, 8, 13]\n",
        "  the resulting list has fib numbers that go up to 20 or less \n",
        "  so we do not hit the next fib number as `21` would exceed `20`\n",
        "\"\"\"\n",
        "\n",
        "def generate_fibonacci(n): \n",
        "  fibs = [0,1]\n",
        "\n",
        "  current_fib = 1\n",
        "\n",
        "  while current_fib <= n:\n",
        "    fibs.append(current_fib)\n",
        "    current_fib = fibs[-1] + fibs[-2]\n",
        "\n",
        "  \n",
        "\n",
        "\n",
        "print(generate_fibonacci(10)) # => [0, 1, 1, 2, 3, 5, 8]\n",
        "print(generate_fibonacci(20)) # => [0, 1, 1, 2, 3, 5, 8, 13]\n"
      ],
      "execution_count": null,
      "outputs": []
    }
  ]
}